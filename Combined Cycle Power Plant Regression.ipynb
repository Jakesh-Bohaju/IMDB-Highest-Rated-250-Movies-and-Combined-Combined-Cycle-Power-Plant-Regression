{
 "cells": [
  {
   "cell_type": "code",
   "execution_count": 1,
   "metadata": {
    "collapsed": true
   },
   "outputs": [],
   "source": [
    "import numpy as np\n",
    "import pandas as pd\n",
    "import matplotlib.pyplot as plt\n",
    "import seaborn as sns\n",
    "from sklearn.linear_model import LinearRegression\n",
    "from sklearn.preprocessing import PolynomialFeatures\n"
   ]
  },
  {
   "cell_type": "code",
   "execution_count": 2,
   "metadata": {
    "collapsed": true
   },
   "outputs": [],
   "source": [
    "df = pd.read_excel(\"Folds5x2_pp.xlsx\")"
   ]
  },
  {
   "cell_type": "code",
   "execution_count": 3,
   "metadata": {
    "collapsed": false
   },
   "outputs": [
    {
     "data": {
      "text/html": [
       "<div>\n",
       "<style scoped>\n",
       "    .dataframe tbody tr th:only-of-type {\n",
       "        vertical-align: middle;\n",
       "    }\n",
       "\n",
       "    .dataframe tbody tr th {\n",
       "        vertical-align: top;\n",
       "    }\n",
       "\n",
       "    .dataframe thead th {\n",
       "        text-align: right;\n",
       "    }\n",
       "</style>\n",
       "<table border=\"1\" class=\"dataframe\">\n",
       "  <thead>\n",
       "    <tr style=\"text-align: right;\">\n",
       "      <th></th>\n",
       "      <th>AT</th>\n",
       "      <th>V</th>\n",
       "      <th>AP</th>\n",
       "      <th>RH</th>\n",
       "      <th>PE</th>\n",
       "    </tr>\n",
       "  </thead>\n",
       "  <tbody>\n",
       "    <tr>\n",
       "      <th>0</th>\n",
       "      <td>14.96</td>\n",
       "      <td>41.76</td>\n",
       "      <td>1024.07</td>\n",
       "      <td>73.17</td>\n",
       "      <td>463.26</td>\n",
       "    </tr>\n",
       "    <tr>\n",
       "      <th>1</th>\n",
       "      <td>25.18</td>\n",
       "      <td>62.96</td>\n",
       "      <td>1020.04</td>\n",
       "      <td>59.08</td>\n",
       "      <td>444.37</td>\n",
       "    </tr>\n",
       "    <tr>\n",
       "      <th>2</th>\n",
       "      <td>5.11</td>\n",
       "      <td>39.40</td>\n",
       "      <td>1012.16</td>\n",
       "      <td>92.14</td>\n",
       "      <td>488.56</td>\n",
       "    </tr>\n",
       "    <tr>\n",
       "      <th>3</th>\n",
       "      <td>20.86</td>\n",
       "      <td>57.32</td>\n",
       "      <td>1010.24</td>\n",
       "      <td>76.64</td>\n",
       "      <td>446.48</td>\n",
       "    </tr>\n",
       "    <tr>\n",
       "      <th>4</th>\n",
       "      <td>10.82</td>\n",
       "      <td>37.50</td>\n",
       "      <td>1009.23</td>\n",
       "      <td>96.62</td>\n",
       "      <td>473.90</td>\n",
       "    </tr>\n",
       "    <tr>\n",
       "      <th>5</th>\n",
       "      <td>26.27</td>\n",
       "      <td>59.44</td>\n",
       "      <td>1012.23</td>\n",
       "      <td>58.77</td>\n",
       "      <td>443.67</td>\n",
       "    </tr>\n",
       "    <tr>\n",
       "      <th>6</th>\n",
       "      <td>15.89</td>\n",
       "      <td>43.96</td>\n",
       "      <td>1014.02</td>\n",
       "      <td>75.24</td>\n",
       "      <td>467.35</td>\n",
       "    </tr>\n",
       "    <tr>\n",
       "      <th>7</th>\n",
       "      <td>9.48</td>\n",
       "      <td>44.71</td>\n",
       "      <td>1019.12</td>\n",
       "      <td>66.43</td>\n",
       "      <td>478.42</td>\n",
       "    </tr>\n",
       "    <tr>\n",
       "      <th>8</th>\n",
       "      <td>14.64</td>\n",
       "      <td>45.00</td>\n",
       "      <td>1021.78</td>\n",
       "      <td>41.25</td>\n",
       "      <td>475.98</td>\n",
       "    </tr>\n",
       "    <tr>\n",
       "      <th>9</th>\n",
       "      <td>11.74</td>\n",
       "      <td>43.56</td>\n",
       "      <td>1015.14</td>\n",
       "      <td>70.72</td>\n",
       "      <td>477.50</td>\n",
       "    </tr>\n",
       "    <tr>\n",
       "      <th>10</th>\n",
       "      <td>17.99</td>\n",
       "      <td>43.72</td>\n",
       "      <td>1008.64</td>\n",
       "      <td>75.04</td>\n",
       "      <td>453.02</td>\n",
       "    </tr>\n",
       "    <tr>\n",
       "      <th>11</th>\n",
       "      <td>20.14</td>\n",
       "      <td>46.93</td>\n",
       "      <td>1014.66</td>\n",
       "      <td>64.22</td>\n",
       "      <td>453.99</td>\n",
       "    </tr>\n",
       "    <tr>\n",
       "      <th>12</th>\n",
       "      <td>24.34</td>\n",
       "      <td>73.50</td>\n",
       "      <td>1011.31</td>\n",
       "      <td>84.15</td>\n",
       "      <td>440.29</td>\n",
       "    </tr>\n",
       "    <tr>\n",
       "      <th>13</th>\n",
       "      <td>25.71</td>\n",
       "      <td>58.59</td>\n",
       "      <td>1012.77</td>\n",
       "      <td>61.83</td>\n",
       "      <td>451.28</td>\n",
       "    </tr>\n",
       "    <tr>\n",
       "      <th>14</th>\n",
       "      <td>26.19</td>\n",
       "      <td>69.34</td>\n",
       "      <td>1009.48</td>\n",
       "      <td>87.59</td>\n",
       "      <td>433.99</td>\n",
       "    </tr>\n",
       "    <tr>\n",
       "      <th>15</th>\n",
       "      <td>21.42</td>\n",
       "      <td>43.79</td>\n",
       "      <td>1015.76</td>\n",
       "      <td>43.08</td>\n",
       "      <td>462.19</td>\n",
       "    </tr>\n",
       "    <tr>\n",
       "      <th>16</th>\n",
       "      <td>18.21</td>\n",
       "      <td>45.00</td>\n",
       "      <td>1022.86</td>\n",
       "      <td>48.84</td>\n",
       "      <td>467.54</td>\n",
       "    </tr>\n",
       "    <tr>\n",
       "      <th>17</th>\n",
       "      <td>11.04</td>\n",
       "      <td>41.74</td>\n",
       "      <td>1022.60</td>\n",
       "      <td>77.51</td>\n",
       "      <td>477.20</td>\n",
       "    </tr>\n",
       "    <tr>\n",
       "      <th>18</th>\n",
       "      <td>14.45</td>\n",
       "      <td>52.75</td>\n",
       "      <td>1023.97</td>\n",
       "      <td>63.59</td>\n",
       "      <td>459.85</td>\n",
       "    </tr>\n",
       "    <tr>\n",
       "      <th>19</th>\n",
       "      <td>13.97</td>\n",
       "      <td>38.47</td>\n",
       "      <td>1015.15</td>\n",
       "      <td>55.28</td>\n",
       "      <td>464.30</td>\n",
       "    </tr>\n",
       "    <tr>\n",
       "      <th>20</th>\n",
       "      <td>17.76</td>\n",
       "      <td>42.42</td>\n",
       "      <td>1009.09</td>\n",
       "      <td>66.26</td>\n",
       "      <td>468.27</td>\n",
       "    </tr>\n",
       "    <tr>\n",
       "      <th>21</th>\n",
       "      <td>5.41</td>\n",
       "      <td>40.07</td>\n",
       "      <td>1019.16</td>\n",
       "      <td>64.77</td>\n",
       "      <td>495.24</td>\n",
       "    </tr>\n",
       "    <tr>\n",
       "      <th>22</th>\n",
       "      <td>7.76</td>\n",
       "      <td>42.28</td>\n",
       "      <td>1008.52</td>\n",
       "      <td>83.31</td>\n",
       "      <td>483.80</td>\n",
       "    </tr>\n",
       "    <tr>\n",
       "      <th>23</th>\n",
       "      <td>27.23</td>\n",
       "      <td>63.90</td>\n",
       "      <td>1014.30</td>\n",
       "      <td>47.19</td>\n",
       "      <td>443.61</td>\n",
       "    </tr>\n",
       "    <tr>\n",
       "      <th>24</th>\n",
       "      <td>27.36</td>\n",
       "      <td>48.60</td>\n",
       "      <td>1003.18</td>\n",
       "      <td>54.93</td>\n",
       "      <td>436.06</td>\n",
       "    </tr>\n",
       "    <tr>\n",
       "      <th>25</th>\n",
       "      <td>27.47</td>\n",
       "      <td>70.72</td>\n",
       "      <td>1009.97</td>\n",
       "      <td>74.62</td>\n",
       "      <td>443.25</td>\n",
       "    </tr>\n",
       "    <tr>\n",
       "      <th>26</th>\n",
       "      <td>14.60</td>\n",
       "      <td>39.31</td>\n",
       "      <td>1011.11</td>\n",
       "      <td>72.52</td>\n",
       "      <td>464.16</td>\n",
       "    </tr>\n",
       "    <tr>\n",
       "      <th>27</th>\n",
       "      <td>7.91</td>\n",
       "      <td>39.96</td>\n",
       "      <td>1023.57</td>\n",
       "      <td>88.44</td>\n",
       "      <td>475.52</td>\n",
       "    </tr>\n",
       "    <tr>\n",
       "      <th>28</th>\n",
       "      <td>5.81</td>\n",
       "      <td>35.79</td>\n",
       "      <td>1012.14</td>\n",
       "      <td>92.28</td>\n",
       "      <td>484.41</td>\n",
       "    </tr>\n",
       "    <tr>\n",
       "      <th>29</th>\n",
       "      <td>30.53</td>\n",
       "      <td>65.18</td>\n",
       "      <td>1012.69</td>\n",
       "      <td>41.85</td>\n",
       "      <td>437.89</td>\n",
       "    </tr>\n",
       "    <tr>\n",
       "      <th>...</th>\n",
       "      <td>...</td>\n",
       "      <td>...</td>\n",
       "      <td>...</td>\n",
       "      <td>...</td>\n",
       "      <td>...</td>\n",
       "    </tr>\n",
       "    <tr>\n",
       "      <th>9538</th>\n",
       "      <td>8.64</td>\n",
       "      <td>38.56</td>\n",
       "      <td>1016.51</td>\n",
       "      <td>66.03</td>\n",
       "      <td>484.45</td>\n",
       "    </tr>\n",
       "    <tr>\n",
       "      <th>9539</th>\n",
       "      <td>10.53</td>\n",
       "      <td>37.50</td>\n",
       "      <td>1008.55</td>\n",
       "      <td>99.91</td>\n",
       "      <td>472.32</td>\n",
       "    </tr>\n",
       "    <tr>\n",
       "      <th>9540</th>\n",
       "      <td>23.53</td>\n",
       "      <td>50.05</td>\n",
       "      <td>1005.63</td>\n",
       "      <td>78.40</td>\n",
       "      <td>443.71</td>\n",
       "    </tr>\n",
       "    <tr>\n",
       "      <th>9541</th>\n",
       "      <td>24.90</td>\n",
       "      <td>67.25</td>\n",
       "      <td>1017.77</td>\n",
       "      <td>66.17</td>\n",
       "      <td>433.71</td>\n",
       "    </tr>\n",
       "    <tr>\n",
       "      <th>9542</th>\n",
       "      <td>5.01</td>\n",
       "      <td>39.40</td>\n",
       "      <td>1003.69</td>\n",
       "      <td>91.90</td>\n",
       "      <td>475.34</td>\n",
       "    </tr>\n",
       "    <tr>\n",
       "      <th>9543</th>\n",
       "      <td>22.66</td>\n",
       "      <td>69.84</td>\n",
       "      <td>1006.16</td>\n",
       "      <td>82.79</td>\n",
       "      <td>439.06</td>\n",
       "    </tr>\n",
       "    <tr>\n",
       "      <th>9544</th>\n",
       "      <td>29.76</td>\n",
       "      <td>57.19</td>\n",
       "      <td>1008.59</td>\n",
       "      <td>51.10</td>\n",
       "      <td>436.21</td>\n",
       "    </tr>\n",
       "    <tr>\n",
       "      <th>9545</th>\n",
       "      <td>26.30</td>\n",
       "      <td>61.41</td>\n",
       "      <td>1012.45</td>\n",
       "      <td>56.85</td>\n",
       "      <td>448.55</td>\n",
       "    </tr>\n",
       "    <tr>\n",
       "      <th>9546</th>\n",
       "      <td>30.17</td>\n",
       "      <td>74.22</td>\n",
       "      <td>1007.46</td>\n",
       "      <td>49.27</td>\n",
       "      <td>432.00</td>\n",
       "    </tr>\n",
       "    <tr>\n",
       "      <th>9547</th>\n",
       "      <td>8.02</td>\n",
       "      <td>40.23</td>\n",
       "      <td>1017.42</td>\n",
       "      <td>90.26</td>\n",
       "      <td>484.22</td>\n",
       "    </tr>\n",
       "    <tr>\n",
       "      <th>9548</th>\n",
       "      <td>19.12</td>\n",
       "      <td>50.16</td>\n",
       "      <td>1011.52</td>\n",
       "      <td>99.71</td>\n",
       "      <td>451.49</td>\n",
       "    </tr>\n",
       "    <tr>\n",
       "      <th>9549</th>\n",
       "      <td>14.87</td>\n",
       "      <td>42.18</td>\n",
       "      <td>1015.23</td>\n",
       "      <td>74.41</td>\n",
       "      <td>465.89</td>\n",
       "    </tr>\n",
       "    <tr>\n",
       "      <th>9550</th>\n",
       "      <td>9.71</td>\n",
       "      <td>42.44</td>\n",
       "      <td>1014.29</td>\n",
       "      <td>94.03</td>\n",
       "      <td>481.03</td>\n",
       "    </tr>\n",
       "    <tr>\n",
       "      <th>9551</th>\n",
       "      <td>24.33</td>\n",
       "      <td>77.54</td>\n",
       "      <td>1008.50</td>\n",
       "      <td>82.45</td>\n",
       "      <td>435.38</td>\n",
       "    </tr>\n",
       "    <tr>\n",
       "      <th>9552</th>\n",
       "      <td>7.17</td>\n",
       "      <td>39.40</td>\n",
       "      <td>1011.48</td>\n",
       "      <td>90.38</td>\n",
       "      <td>484.33</td>\n",
       "    </tr>\n",
       "    <tr>\n",
       "      <th>9553</th>\n",
       "      <td>24.61</td>\n",
       "      <td>62.96</td>\n",
       "      <td>1020.10</td>\n",
       "      <td>63.83</td>\n",
       "      <td>445.79</td>\n",
       "    </tr>\n",
       "    <tr>\n",
       "      <th>9554</th>\n",
       "      <td>23.48</td>\n",
       "      <td>66.44</td>\n",
       "      <td>1011.28</td>\n",
       "      <td>61.11</td>\n",
       "      <td>443.21</td>\n",
       "    </tr>\n",
       "    <tr>\n",
       "      <th>9555</th>\n",
       "      <td>23.70</td>\n",
       "      <td>70.32</td>\n",
       "      <td>1007.21</td>\n",
       "      <td>66.85</td>\n",
       "      <td>439.59</td>\n",
       "    </tr>\n",
       "    <tr>\n",
       "      <th>9556</th>\n",
       "      <td>25.44</td>\n",
       "      <td>69.59</td>\n",
       "      <td>1008.22</td>\n",
       "      <td>80.73</td>\n",
       "      <td>433.97</td>\n",
       "    </tr>\n",
       "    <tr>\n",
       "      <th>9557</th>\n",
       "      <td>17.46</td>\n",
       "      <td>62.10</td>\n",
       "      <td>1019.96</td>\n",
       "      <td>83.99</td>\n",
       "      <td>451.06</td>\n",
       "    </tr>\n",
       "    <tr>\n",
       "      <th>9558</th>\n",
       "      <td>22.97</td>\n",
       "      <td>62.40</td>\n",
       "      <td>1010.25</td>\n",
       "      <td>75.18</td>\n",
       "      <td>445.30</td>\n",
       "    </tr>\n",
       "    <tr>\n",
       "      <th>9559</th>\n",
       "      <td>26.22</td>\n",
       "      <td>49.82</td>\n",
       "      <td>1015.48</td>\n",
       "      <td>55.80</td>\n",
       "      <td>454.20</td>\n",
       "    </tr>\n",
       "    <tr>\n",
       "      <th>9560</th>\n",
       "      <td>23.27</td>\n",
       "      <td>68.28</td>\n",
       "      <td>1005.01</td>\n",
       "      <td>74.83</td>\n",
       "      <td>444.86</td>\n",
       "    </tr>\n",
       "    <tr>\n",
       "      <th>9561</th>\n",
       "      <td>11.76</td>\n",
       "      <td>41.58</td>\n",
       "      <td>1020.91</td>\n",
       "      <td>88.35</td>\n",
       "      <td>465.45</td>\n",
       "    </tr>\n",
       "    <tr>\n",
       "      <th>9562</th>\n",
       "      <td>14.02</td>\n",
       "      <td>40.10</td>\n",
       "      <td>1015.56</td>\n",
       "      <td>82.44</td>\n",
       "      <td>467.32</td>\n",
       "    </tr>\n",
       "    <tr>\n",
       "      <th>9563</th>\n",
       "      <td>16.65</td>\n",
       "      <td>49.69</td>\n",
       "      <td>1014.01</td>\n",
       "      <td>91.00</td>\n",
       "      <td>460.03</td>\n",
       "    </tr>\n",
       "    <tr>\n",
       "      <th>9564</th>\n",
       "      <td>13.19</td>\n",
       "      <td>39.18</td>\n",
       "      <td>1023.67</td>\n",
       "      <td>66.78</td>\n",
       "      <td>469.62</td>\n",
       "    </tr>\n",
       "    <tr>\n",
       "      <th>9565</th>\n",
       "      <td>31.32</td>\n",
       "      <td>74.33</td>\n",
       "      <td>1012.92</td>\n",
       "      <td>36.48</td>\n",
       "      <td>429.57</td>\n",
       "    </tr>\n",
       "    <tr>\n",
       "      <th>9566</th>\n",
       "      <td>24.48</td>\n",
       "      <td>69.45</td>\n",
       "      <td>1013.86</td>\n",
       "      <td>62.39</td>\n",
       "      <td>435.74</td>\n",
       "    </tr>\n",
       "    <tr>\n",
       "      <th>9567</th>\n",
       "      <td>21.60</td>\n",
       "      <td>62.52</td>\n",
       "      <td>1017.23</td>\n",
       "      <td>67.87</td>\n",
       "      <td>453.28</td>\n",
       "    </tr>\n",
       "  </tbody>\n",
       "</table>\n",
       "<p>9568 rows × 5 columns</p>\n",
       "</div>"
      ],
      "text/plain": [
       "         AT      V       AP     RH      PE\n",
       "0     14.96  41.76  1024.07  73.17  463.26\n",
       "1     25.18  62.96  1020.04  59.08  444.37\n",
       "2      5.11  39.40  1012.16  92.14  488.56\n",
       "3     20.86  57.32  1010.24  76.64  446.48\n",
       "4     10.82  37.50  1009.23  96.62  473.90\n",
       "5     26.27  59.44  1012.23  58.77  443.67\n",
       "6     15.89  43.96  1014.02  75.24  467.35\n",
       "7      9.48  44.71  1019.12  66.43  478.42\n",
       "8     14.64  45.00  1021.78  41.25  475.98\n",
       "9     11.74  43.56  1015.14  70.72  477.50\n",
       "10    17.99  43.72  1008.64  75.04  453.02\n",
       "11    20.14  46.93  1014.66  64.22  453.99\n",
       "12    24.34  73.50  1011.31  84.15  440.29\n",
       "13    25.71  58.59  1012.77  61.83  451.28\n",
       "14    26.19  69.34  1009.48  87.59  433.99\n",
       "15    21.42  43.79  1015.76  43.08  462.19\n",
       "16    18.21  45.00  1022.86  48.84  467.54\n",
       "17    11.04  41.74  1022.60  77.51  477.20\n",
       "18    14.45  52.75  1023.97  63.59  459.85\n",
       "19    13.97  38.47  1015.15  55.28  464.30\n",
       "20    17.76  42.42  1009.09  66.26  468.27\n",
       "21     5.41  40.07  1019.16  64.77  495.24\n",
       "22     7.76  42.28  1008.52  83.31  483.80\n",
       "23    27.23  63.90  1014.30  47.19  443.61\n",
       "24    27.36  48.60  1003.18  54.93  436.06\n",
       "25    27.47  70.72  1009.97  74.62  443.25\n",
       "26    14.60  39.31  1011.11  72.52  464.16\n",
       "27     7.91  39.96  1023.57  88.44  475.52\n",
       "28     5.81  35.79  1012.14  92.28  484.41\n",
       "29    30.53  65.18  1012.69  41.85  437.89\n",
       "...     ...    ...      ...    ...     ...\n",
       "9538   8.64  38.56  1016.51  66.03  484.45\n",
       "9539  10.53  37.50  1008.55  99.91  472.32\n",
       "9540  23.53  50.05  1005.63  78.40  443.71\n",
       "9541  24.90  67.25  1017.77  66.17  433.71\n",
       "9542   5.01  39.40  1003.69  91.90  475.34\n",
       "9543  22.66  69.84  1006.16  82.79  439.06\n",
       "9544  29.76  57.19  1008.59  51.10  436.21\n",
       "9545  26.30  61.41  1012.45  56.85  448.55\n",
       "9546  30.17  74.22  1007.46  49.27  432.00\n",
       "9547   8.02  40.23  1017.42  90.26  484.22\n",
       "9548  19.12  50.16  1011.52  99.71  451.49\n",
       "9549  14.87  42.18  1015.23  74.41  465.89\n",
       "9550   9.71  42.44  1014.29  94.03  481.03\n",
       "9551  24.33  77.54  1008.50  82.45  435.38\n",
       "9552   7.17  39.40  1011.48  90.38  484.33\n",
       "9553  24.61  62.96  1020.10  63.83  445.79\n",
       "9554  23.48  66.44  1011.28  61.11  443.21\n",
       "9555  23.70  70.32  1007.21  66.85  439.59\n",
       "9556  25.44  69.59  1008.22  80.73  433.97\n",
       "9557  17.46  62.10  1019.96  83.99  451.06\n",
       "9558  22.97  62.40  1010.25  75.18  445.30\n",
       "9559  26.22  49.82  1015.48  55.80  454.20\n",
       "9560  23.27  68.28  1005.01  74.83  444.86\n",
       "9561  11.76  41.58  1020.91  88.35  465.45\n",
       "9562  14.02  40.10  1015.56  82.44  467.32\n",
       "9563  16.65  49.69  1014.01  91.00  460.03\n",
       "9564  13.19  39.18  1023.67  66.78  469.62\n",
       "9565  31.32  74.33  1012.92  36.48  429.57\n",
       "9566  24.48  69.45  1013.86  62.39  435.74\n",
       "9567  21.60  62.52  1017.23  67.87  453.28\n",
       "\n",
       "[9568 rows x 5 columns]"
      ]
     },
     "execution_count": 3,
     "metadata": {},
     "output_type": "execute_result"
    }
   ],
   "source": [
    "df"
   ]
  },
  {
   "cell_type": "code",
   "execution_count": 4,
   "metadata": {
    "collapsed": false
   },
   "outputs": [
    {
     "data": {
      "text/plain": [
       "AT      19.651231\n",
       "V       54.305804\n",
       "AP    1013.259078\n",
       "RH      73.308978\n",
       "PE     454.365009\n",
       "dtype: float64"
      ]
     },
     "execution_count": 4,
     "metadata": {},
     "output_type": "execute_result"
    }
   ],
   "source": [
    "np.mean(df)"
   ]
  },
  {
   "cell_type": "code",
   "execution_count": 5,
   "metadata": {
    "collapsed": false
   },
   "outputs": [
    {
     "data": {
      "text/plain": [
       "AT      20.345\n",
       "V       52.080\n",
       "AP    1012.940\n",
       "RH      74.975\n",
       "PE     451.550\n",
       "dtype: float64"
      ]
     },
     "execution_count": 5,
     "metadata": {},
     "output_type": "execute_result"
    }
   ],
   "source": [
    "df.median()"
   ]
  },
  {
   "cell_type": "code",
   "execution_count": 6,
   "metadata": {
    "collapsed": false
   },
   "outputs": [
    {
     "data": {
      "text/plain": [
       "AT     7.452473\n",
       "V     12.707893\n",
       "AP     5.938784\n",
       "RH    14.600269\n",
       "PE    17.066995\n",
       "dtype: float64"
      ]
     },
     "execution_count": 6,
     "metadata": {},
     "output_type": "execute_result"
    }
   ],
   "source": [
    "df.std()"
   ]
  },
  {
   "cell_type": "code",
   "execution_count": 7,
   "metadata": {
    "collapsed": false
   },
   "outputs": [
    {
     "data": {
      "text/html": [
       "<div>\n",
       "<style scoped>\n",
       "    .dataframe tbody tr th:only-of-type {\n",
       "        vertical-align: middle;\n",
       "    }\n",
       "\n",
       "    .dataframe tbody tr th {\n",
       "        vertical-align: top;\n",
       "    }\n",
       "\n",
       "    .dataframe thead th {\n",
       "        text-align: right;\n",
       "    }\n",
       "</style>\n",
       "<table border=\"1\" class=\"dataframe\">\n",
       "  <thead>\n",
       "    <tr style=\"text-align: right;\">\n",
       "      <th></th>\n",
       "      <th>AT</th>\n",
       "      <th>V</th>\n",
       "      <th>AP</th>\n",
       "      <th>RH</th>\n",
       "      <th>PE</th>\n",
       "    </tr>\n",
       "  </thead>\n",
       "  <tbody>\n",
       "    <tr>\n",
       "      <th>AT</th>\n",
       "      <td>1.000000</td>\n",
       "      <td>0.844107</td>\n",
       "      <td>-0.507549</td>\n",
       "      <td>-0.542535</td>\n",
       "      <td>-0.948128</td>\n",
       "    </tr>\n",
       "    <tr>\n",
       "      <th>V</th>\n",
       "      <td>0.844107</td>\n",
       "      <td>1.000000</td>\n",
       "      <td>-0.413502</td>\n",
       "      <td>-0.312187</td>\n",
       "      <td>-0.869780</td>\n",
       "    </tr>\n",
       "    <tr>\n",
       "      <th>AP</th>\n",
       "      <td>-0.507549</td>\n",
       "      <td>-0.413502</td>\n",
       "      <td>1.000000</td>\n",
       "      <td>0.099574</td>\n",
       "      <td>0.518429</td>\n",
       "    </tr>\n",
       "    <tr>\n",
       "      <th>RH</th>\n",
       "      <td>-0.542535</td>\n",
       "      <td>-0.312187</td>\n",
       "      <td>0.099574</td>\n",
       "      <td>1.000000</td>\n",
       "      <td>0.389794</td>\n",
       "    </tr>\n",
       "    <tr>\n",
       "      <th>PE</th>\n",
       "      <td>-0.948128</td>\n",
       "      <td>-0.869780</td>\n",
       "      <td>0.518429</td>\n",
       "      <td>0.389794</td>\n",
       "      <td>1.000000</td>\n",
       "    </tr>\n",
       "  </tbody>\n",
       "</table>\n",
       "</div>"
      ],
      "text/plain": [
       "          AT         V        AP        RH        PE\n",
       "AT  1.000000  0.844107 -0.507549 -0.542535 -0.948128\n",
       "V   0.844107  1.000000 -0.413502 -0.312187 -0.869780\n",
       "AP -0.507549 -0.413502  1.000000  0.099574  0.518429\n",
       "RH -0.542535 -0.312187  0.099574  1.000000  0.389794\n",
       "PE -0.948128 -0.869780  0.518429  0.389794  1.000000"
      ]
     },
     "execution_count": 7,
     "metadata": {},
     "output_type": "execute_result"
    }
   ],
   "source": [
    "df.corr()"
   ]
  },
  {
   "cell_type": "code",
   "execution_count": 8,
   "metadata": {
    "collapsed": false
   },
   "outputs": [
    {
     "data": {
      "image/png": "[encoded data removed]",
      "text/plain": [
       "<matplotlib.figure.Figure at 0x7f173cf5dd30>"
      ]
     },
     "metadata": {},
     "output_type": "display_data"
    }
   ],
   "source": [
    "sns.heatmap(df.corr(), annot = True)\n",
    "plt.show()"
   ]
  },
  {
   "cell_type": "code",
   "execution_count": 9,
   "metadata": {
    "collapsed": false
   },
   "outputs": [],
   "source": [
    "ambient_temperature = df['AT']\n",
    "exhaust_vacuum = df['V']\n",
    "ambient_pressure = df['AP']\n",
    "relative_humidity = df['RH']\n",
    "plant_energy_output = df['PE']"
   ]
  },
  {
   "cell_type": "code",
   "execution_count": 10,
   "metadata": {
    "collapsed": true
   },
   "outputs": [],
   "source": [
    "fig,ccpp = plt.subplots(2,3)"
   ]
  },
  {
   "cell_type": "code",
   "execution_count": 11,
   "metadata": {
    "collapsed": false
   },
   "outputs": [
    {
     "data": {
      "text/plain": [
       "{'boxes': [<matplotlib.lines.Line2D at 0x7f17330399b0>],\n",
       " 'caps': [<matplotlib.lines.Line2D at 0x7f1733041400>,\n",
       "  <matplotlib.lines.Line2D at 0x7f1733041828>],\n",
       " 'fliers': [<matplotlib.lines.Line2D at 0x7f173304a0b8>],\n",
       " 'means': [],\n",
       " 'medians': [<matplotlib.lines.Line2D at 0x7f1733041c50>],\n",
       " 'whiskers': [<matplotlib.lines.Line2D at 0x7f1733039b00>,\n",
       "  <matplotlib.lines.Line2D at 0x7f1733039f98>]}"
      ]
     },
     "execution_count": 11,
     "metadata": {},
     "output_type": "execute_result"
    }
   ],
   "source": [
    "ccpp[0,0].boxplot(ambient_temperature)\n",
    "ccpp[0,1].boxplot(exhaust_vacuum)\n",
    "ccpp[0,2].boxplot(ambient_pressure)\n",
    "ccpp[1,0].boxplot(relative_humidity)\n",
    "ccpp[1,1].boxplot(plant_energy_output)\n"
   ]
  },
  {
   "cell_type": "code",
   "execution_count": 12,
   "metadata": {
    "collapsed": false
   },
   "outputs": [
    {
     "data": {
      "image/png": "[encoded data removed]",
      "text/plain": [
       "<matplotlib.figure.Figure at 0x7f173cf5d080>"
      ]
     },
     "metadata": {},
     "output_type": "display_data"
    },
    {
     "data": {
      "text/plain": [
       "<matplotlib.figure.Figure at 0x7f173306cba8>"
      ]
     },
     "metadata": {},
     "output_type": "display_data"
    }
   ],
   "source": [
    "plt.figure(figsize=(20,8))\n",
    "plt.show()\n"
   ]
  },
  {
   "cell_type": "code",
   "execution_count": 13,
   "metadata": {
    "collapsed": false
   },
   "outputs": [],
   "source": [
    "#ambient_temperature"
   ]
  },
  {
   "cell_type": "code",
   "execution_count": 14,
   "metadata": {
    "collapsed": false
   },
   "outputs": [
    {
     "data": {
      "image/png": "[encoded data removed]",
      "text/plain": [
       "<matplotlib.figure.Figure at 0x7f173320c940>"
      ]
     },
     "metadata": {},
     "output_type": "display_data"
    }
   ],
   "source": [
    "plt.hist(ambient_temperature,bins=10)\n",
    "plt.show()"
   ]
  },
  {
   "cell_type": "code",
   "execution_count": 15,
   "metadata": {
    "collapsed": false
   },
   "outputs": [],
   "source": [
    "#ambient_pressure"
   ]
  },
  {
   "cell_type": "code",
   "execution_count": 16,
   "metadata": {
    "collapsed": false
   },
   "outputs": [
    {
     "data": {
      "image/png": "[encoded data removed]",
      "text/plain": [
       "<matplotlib.figure.Figure at 0x7f1732faeb70>"
      ]
     },
     "metadata": {},
     "output_type": "display_data"
    }
   ],
   "source": [
    "plt.hist(ambient_pressure,bins=20)\n",
    "plt.show()"
   ]
  },
  {
   "cell_type": "code",
   "execution_count": 17,
   "metadata": {
    "collapsed": false
   },
   "outputs": [
    {
     "data": {
      "image/png": "[encoded data removed]",
      "text/plain": [
       "<matplotlib.figure.Figure at 0x7f1732f03358>"
      ]
     },
     "metadata": {},
     "output_type": "display_data"
    }
   ],
   "source": [
    "plt.hist(exhaust_vacuum,bins=10)\n",
    "plt.show()"
   ]
  },
  {
   "cell_type": "code",
   "execution_count": 18,
   "metadata": {
    "collapsed": false
   },
   "outputs": [
    {
     "data": {
      "image/png": "[encoded data removed]",
      "text/plain": [
       "<matplotlib.figure.Figure at 0x7f1732e91320>"
      ]
     },
     "metadata": {},
     "output_type": "display_data"
    }
   ],
   "source": [
    "plt.hist(relative_humidity,bins=10)\n",
    "plt.show()"
   ]
  },
  {
   "cell_type": "code",
   "execution_count": 19,
   "metadata": {
    "collapsed": false
   },
   "outputs": [
    {
     "data": {
      "image/png": "[encoded data removed]",
      "text/plain": [
       "<matplotlib.figure.Figure at 0x7f1732e2bcc0>"
      ]
     },
     "metadata": {},
     "output_type": "display_data"
    }
   ],
   "source": [
    "plt.hist(plant_energy_output,bins=20)\n",
    "plt.show()"
   ]
  },
  {
   "cell_type": "code",
   "execution_count": 20,
   "metadata": {
    "collapsed": true
   },
   "outputs": [],
   "source": [
    "#80% data as Train dataset and 20% as Test dataset"
   ]
  },
  {
   "cell_type": "code",
   "execution_count": 21,
   "metadata": {
    "collapsed": false
   },
   "outputs": [],
   "source": [
    "xtrain = df.iloc[:7655,:4]\n",
    "ytrain = df.iloc[:7655,4:]\n",
    "#xtrain"
   ]
  },
  {
   "cell_type": "code",
   "execution_count": 22,
   "metadata": {
    "collapsed": false
   },
   "outputs": [],
   "source": [
    "xtest = df.iloc[7655:,:4]\n",
    "ytest = df.iloc[7655:,4:]\n",
    "#ytest"
   ]
  },
  {
   "cell_type": "code",
   "execution_count": 23,
   "metadata": {
    "collapsed": true
   },
   "outputs": [],
   "source": [
    "lin_model = LinearRegression()"
   ]
  },
  {
   "cell_type": "code",
   "execution_count": 24,
   "metadata": {
    "collapsed": false
   },
   "outputs": [
    {
     "data": {
      "text/plain": [
       "LinearRegression(copy_X=True, fit_intercept=True, n_jobs=1, normalize=False)"
      ]
     },
     "execution_count": 24,
     "metadata": {},
     "output_type": "execute_result"
    }
   ],
   "source": [
    "lin_model.fit(xtrain,ytrain)"
   ]
  },
  {
   "cell_type": "code",
   "execution_count": 25,
   "metadata": {
    "collapsed": false
   },
   "outputs": [
    {
     "data": {
      "text/plain": [
       "array([[441.82904193],\n",
       "       [445.14394502],\n",
       "       [426.15474298],\n",
       "       ...,\n",
       "       [432.47274932],\n",
       "       [443.10509547],\n",
       "       [449.74518291]])"
      ]
     },
     "execution_count": 25,
     "metadata": {},
     "output_type": "execute_result"
    }
   ],
   "source": [
    "lin_model.predict(xtest)"
   ]
  },
  {
   "cell_type": "code",
   "execution_count": 26,
   "metadata": {
    "collapsed": false
   },
   "outputs": [
    {
     "data": {
      "text/plain": [
       "0.9246449943523912"
      ]
     },
     "execution_count": 26,
     "metadata": {},
     "output_type": "execute_result"
    }
   ],
   "source": [
    "lin_model.score(xtest,ytest)"
   ]
  },
  {
   "cell_type": "code",
   "execution_count": 27,
   "metadata": {
    "collapsed": false
   },
   "outputs": [
    {
     "data": {
      "image/png": "[encoded data removed]",
      "text/plain": [
       "<matplotlib.figure.Figure at 0x7f1732d9c0f0>"
      ]
     },
     "metadata": {},
     "output_type": "display_data"
    }
   ],
   "source": [
    "sns.lmplot(x=\"AT\", y=\"PE\", data=df)\n",
    "plt.title('Ambident Temerature and Plant Energy Relation')\n",
    "plt.show()"
   ]
  },
  {
   "cell_type": "code",
   "execution_count": 28,
   "metadata": {
    "collapsed": false
   },
   "outputs": [
    {
     "data": {
      "image/png": "[encoded data removed]",
      "text/plain": [
       "<matplotlib.figure.Figure at 0x7f1732d8a0f0>"
      ]
     },
     "metadata": {},
     "output_type": "display_data"
    }
   ],
   "source": [
    "sns.lmplot(x=\"AP\", y=\"PE\", data=df)\n",
    "plt.title('Ambident Pressure and Plant Energy Relation')\n",
    "plt.show()"
   ]
  },
  {
   "cell_type": "code",
   "execution_count": 29,
   "metadata": {
    "collapsed": false
   },
   "outputs": [
    {
     "data": {
      "image/png": "[encoded data removed]",
      "text/plain": [
       "<matplotlib.figure.Figure at 0x7f1732e2b320>"
      ]
     },
     "metadata": {},
     "output_type": "display_data"
    }
   ],
   "source": [
    "sns.lmplot(x=\"V\", y=\"PE\", data=df)\n",
    "plt.title('Exhaust Volume and Plant Energy Relation')\n",
    "plt.show()"
   ]
  },
  {
   "cell_type": "code",
   "execution_count": 30,
   "metadata": {
    "collapsed": false
   },
   "outputs": [
    {
     "data": {
      "image/png": "[encoded data removed]",
      "text/plain": [
       "<matplotlib.figure.Figure at 0x7f173300ab38>"
      ]
     },
     "metadata": {},
     "output_type": "display_data"
    }
   ],
   "source": [
    "sns.lmplot(x=\"RH\", y=\"PE\", data=df)\n",
    "plt.title('Relative Humidity and Plant Energy Relation')\n",
    "plt.show()"
   ]
  },
  {
   "cell_type": "code",
   "execution_count": 31,
   "metadata": {
    "collapsed": false
   },
   "outputs": [
    {
     "data": {
      "text/plain": [
       "0.9338502280297939"
      ]
     },
     "execution_count": 31,
     "metadata": {},
     "output_type": "execute_result"
    }
   ],
   "source": [
    "quad_feature = PolynomialFeatures(degree=2)\n",
    "xtrain_quad = quad_feature.fit_transform(xtrain)\n",
    "xtest_quad = quad_feature.transform(xtest)\n",
    "quad_model = LinearRegression()\n",
    "quad_model.fit(xtrain_quad,ytrain)\n",
    "quad_model.predict(xtest_quad)\n",
    "quad_model.score(xtest_quad,ytest)"
   ]
  },
  {
   "cell_type": "code",
   "execution_count": 32,
   "metadata": {
    "collapsed": false
   },
   "outputs": [
    {
     "data": {
      "text/plain": [
       "0.9367778711840852"
      ]
     },
     "execution_count": 32,
     "metadata": {},
     "output_type": "execute_result"
    }
   ],
   "source": [
    "quad_feature = PolynomialFeatures(degree=3)\n",
    "xtrain_quad = quad_feature.fit_transform(xtrain)\n",
    "xtest_quad = quad_feature.transform(xtest)\n",
    "quad_model = LinearRegression()\n",
    "quad_model.fit(xtrain_quad,ytrain)\n",
    "quad_model.predict(xtest_quad)\n",
    "quad_model.score(xtest_quad,ytest)"
   ]
  },
  {
   "cell_type": "code",
   "execution_count": 33,
   "metadata": {
    "collapsed": false
   },
   "outputs": [
    {
     "data": {
      "text/plain": [
       "0.9380846117329315"
      ]
     },
     "execution_count": 33,
     "metadata": {},
     "output_type": "execute_result"
    }
   ],
   "source": [
    "quad_feature = PolynomialFeatures(degree=4)\n",
    "xtrain_quad = quad_feature.fit_transform(xtrain)\n",
    "xtest_quad = quad_feature.transform(xtest)\n",
    "quad_model = LinearRegression()\n",
    "quad_model.fit(xtrain_quad,ytrain)\n",
    "quad_model.predict(xtest_quad)\n",
    "quad_model.score(xtest_quad,ytest)"
   ]
  },
  {
   "cell_type": "code",
   "execution_count": 34,
   "metadata": {
    "collapsed": false
   },
   "outputs": [
    {
     "data": {
      "text/plain": [
       "0.936743890334244"
      ]
     },
     "execution_count": 34,
     "metadata": {},
     "output_type": "execute_result"
    }
   ],
   "source": [
    "quad_feature = PolynomialFeatures(degree=5)\n",
    "xtrain_quad = quad_feature.fit_transform(xtrain)\n",
    "xtest_quad = quad_feature.transform(xtest)\n",
    "quad_model = LinearRegression()\n",
    "quad_model.fit(xtrain_quad,ytrain)\n",
    "quad_model.predict(xtest_quad)\n",
    "quad_model.score(xtest_quad,ytest)"
   ]
  },
  {
   "cell_type": "code",
   "execution_count": 35,
   "metadata": {
    "collapsed": false
   },
   "outputs": [
    {
     "data": {
      "text/plain": [
       "0.9388071352817638"
      ]
     },
     "execution_count": 35,
     "metadata": {},
     "output_type": "execute_result"
    }
   ],
   "source": [
    "quad_feature = PolynomialFeatures(degree=6)\n",
    "xtrain_quad = quad_feature.fit_transform(xtrain)\n",
    "xtest_quad = quad_feature.transform(xtest)\n",
    "quad_model = LinearRegression()\n",
    "quad_model.fit(xtrain_quad,ytrain)\n",
    "quad_model.predict(xtest_quad)\n",
    "quad_model.score(xtest_quad,ytest)"
   ]
  },
  {
   "cell_type": "code",
   "execution_count": 36,
   "metadata": {
    "collapsed": false
   },
   "outputs": [
    {
     "data": {
      "text/plain": [
       "0.9364924482642509"
      ]
     },
     "execution_count": 36,
     "metadata": {},
     "output_type": "execute_result"
    }
   ],
   "source": [
    "quad_feature = PolynomialFeatures(degree=7)\n",
    "xtrain_quad = quad_feature.fit_transform(xtrain)\n",
    "xtest_quad = quad_feature.transform(xtest)\n",
    "quad_model = LinearRegression()\n",
    "quad_model.fit(xtrain_quad,ytrain)\n",
    "quad_model.predict(xtest_quad)\n",
    "quad_model.score(xtest_quad,ytest)"
   ]
  },
  {
   "cell_type": "code",
   "execution_count": 37,
   "metadata": {
    "collapsed": false
   },
   "outputs": [
    {
     "data": {
      "text/plain": [
       "0.9391750864551984"
      ]
     },
     "execution_count": 37,
     "metadata": {},
     "output_type": "execute_result"
    }
   ],
   "source": [
    "quad_feature = PolynomialFeatures(degree=8)\n",
    "xtrain_quad = quad_feature.fit_transform(xtrain)\n",
    "xtest_quad = quad_feature.transform(xtest)\n",
    "quad_model = LinearRegression()\n",
    "quad_model.fit(xtrain_quad,ytrain)\n",
    "quad_model.predict(xtest_quad)\n",
    "quad_model.score(xtest_quad,ytest)"
   ]
  },
  {
   "cell_type": "code",
   "execution_count": 38,
   "metadata": {
    "collapsed": false
   },
   "outputs": [
    {
     "data": {
      "text/plain": [
       "0.9380537936399923"
      ]
     },
     "execution_count": 38,
     "metadata": {},
     "output_type": "execute_result"
    }
   ],
   "source": [
    "quad_feature = PolynomialFeatures(degree=9)\n",
    "xtrain_quad = quad_feature.fit_transform(xtrain)\n",
    "xtest_quad = quad_feature.transform(xtest)\n",
    "quad_model = LinearRegression()\n",
    "quad_model.fit(xtrain_quad,ytrain)\n",
    "quad_model.predict(xtest_quad)\n",
    "quad_model.score(xtest_quad,ytest)"
   ]
  },
  {
   "cell_type": "code",
   "execution_count": 39,
   "metadata": {
    "collapsed": false
   },
   "outputs": [
    {
     "data": {
      "text/plain": [
       "0.9383741698139699"
      ]
     },
     "execution_count": 39,
     "metadata": {},
     "output_type": "execute_result"
    }
   ],
   "source": [
    "quad_feature = PolynomialFeatures(degree=10)\n",
    "xtrain_quad = quad_feature.fit_transform(xtrain)\n",
    "xtest_quad = quad_feature.transform(xtest)\n",
    "quad_model = LinearRegression()\n",
    "quad_model.fit(xtrain_quad,ytrain)\n",
    "quad_model.predict(xtest_quad)\n",
    "quad_model.score(xtest_quad,ytest)"
   ]
  },
  {
   "cell_type": "code",
   "execution_count": 40,
   "metadata": {
    "collapsed": false
   },
   "outputs": [
    {
     "data": {
      "image/png": "[encoded data removed]",
      "text/plain": [
       "<matplotlib.figure.Figure at 0x7f17331fe9e8>"
      ]
     },
     "metadata": {},
     "output_type": "display_data"
    }
   ],
   "source": [
    "plt.scatter(xtrain['AT'],ytrain)\n",
    "plt.show()"
   ]
  },
  {
   "cell_type": "code",
   "execution_count": null,
   "metadata": {
    "collapsed": false
   },
   "outputs": [],
   "source": []
  },
  {
   "cell_type": "code",
   "execution_count": null,
   "metadata": {
    "collapsed": true
   },
   "outputs": [],
   "source": []
  }
 ],
 "metadata": {
  "kernelspec": {
   "display_name": "Python 3",
   "language": "python",
   "name": "python3"
  },
  "language_info": {
   "codemirror_mode": {
    "name": "ipython",
    "version": 3
   },
   "file_extension": ".py",
   "mimetype": "text/x-python",
   "name": "python",
   "nbconvert_exporter": "python",
   "pygments_lexer": "ipython3",
   "version": "3.6.4"
  }
 },
 "nbformat": 4,
 "nbformat_minor": 2
}
